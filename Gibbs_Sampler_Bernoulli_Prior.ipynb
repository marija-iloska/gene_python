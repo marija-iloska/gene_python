{
 "cells": [
  {
   "cell_type": "code",
   "execution_count": 26,
   "metadata": {},
   "outputs": [],
   "source": [
    "import numpy as np\n",
    "from numpy.linalg import inv\n",
    "from numpy.linalg import slogdet\n",
    "import random\n",
    "from random import random\n",
    "from scipy.stats import multivariate_normal\n",
    "from scipy.stats import mode\n",
    "import multiprocessing as mP\n",
    "import time\n",
    "\n",
    "import concurrent.futures as cF\n",
    "from functools import partial\n"
   ]
  },
  {
   "cell_type": "markdown",
   "metadata": {},
   "source": [
    "### Functions"
   ]
  },
  {
   "cell_type": "markdown",
   "metadata": {},
   "source": [
    "###### Generates Data"
   ]
  },
  {
   "cell_type": "code",
   "execution_count": 46,
   "metadata": {},
   "outputs": [],
   "source": [
    "def generate_mat(T, dim_y, p_s, noise):\n",
    "    \n",
    "    p_ns = 1 - p_s\n",
    "    # Get dimension of vectorized matrix\n",
    "    dim_x = dim_y**2\n",
    "    \n",
    "    # Initialize coefficient and adjacency matrices\n",
    "    C = np.random.rand(dim_y, dim_y)*1-0.5\n",
    "    A = np.ones([dim_y, dim_y])\n",
    "    \n",
    "    # Generate Matrices\n",
    "    for i in range(dim_y):\n",
    "        cond = True\n",
    "        while(cond):\n",
    "            for j in range(dim_y):\n",
    "                if(i==j):\n",
    "                    p = p_s\n",
    "                else:\n",
    "                    p = p_ns\n",
    "                if(random() >= p):\n",
    "                    A[i,j] = 0\n",
    "                else:\n",
    "                    A[i,j] = 1\n",
    "                if(sum(A[i,:])!=0):\n",
    "                    cond = False\n",
    "    # Get matrix topology\n",
    "    C = C*A\n",
    "    \n",
    "    # Generate the time series\n",
    "    y = np.zeros([dim_y,T])\n",
    "    y[:,0] = np.random.rand(1,dim_y)\n",
    "    for t in range(1,T):\n",
    "        y[:,t] = np.dot(C,y[:,t-1]) + np.random.multivariate_normal([0]*dim_y, noise*np.identity(dim_y), 1)   \n",
    "        \n",
    "    return A, C, y, dim_x"
   ]
  },
  {
   "cell_type": "markdown",
   "metadata": {},
   "source": [
    "###### Computes posterior of matrix normal"
   ]
  },
  {
   "cell_type": "code",
   "execution_count": 47,
   "metadata": {},
   "outputs": [],
   "source": [
    "def mn_conjugate_var(y, var_y, mu_0, sig_0):\n",
    "    \n",
    "    # Obtain dimensions of observations\n",
    "    dim_y = len(y[:,0])\n",
    "    \n",
    "    # Obtain length of time series\n",
    "    T = len(y[0,:])\n",
    "    \n",
    "    # Obtain Matrix Normal parameters of likelihood\n",
    "    y1 = np.dot(y[:,0:T-1], y[:,0:T-1].T)\n",
    "    y2 = np.dot(y[:,0:T-1],y[:,1:T].T)\n",
    "    \n",
    "    M = inv(y1)*y2.T\n",
    "    U = var_y*inv(y1)\n",
    "    V = np.identity(dim_y)\n",
    "    \n",
    "    # Convert to vector form\n",
    "    mu_x = M.flatten()\n",
    "    sig_x = np.kron(V,U)\n",
    "    dim_x = dim_y^2\n",
    "    \n",
    "    # Compute the posterior of vectorized matrix \n",
    "    sig = inv( inv(sig_0) + inv(sig_x) )\n",
    "    mu1 = np.dot(inv(sig_0),mu_0)\n",
    "    mu2 = np.dot(inv(sig_x),mu_x)\n",
    "    mu = np.dot(sig, mu1 + mu2)\n",
    "    \n",
    "    return mu, sig, mu_x, sig_x"
   ]
  },
  {
   "cell_type": "code",
   "execution_count": 4,
   "metadata": {},
   "outputs": [],
   "source": [
    "def logmvnpdf(x, mu, SIGMA):\n",
    "    D = len(x)\n",
    "    const = -0.5*D*np.log(2*np.pi)\n",
    "    xc = x - mu\n",
    "    term1 = -0.5*sum(np.dot(xc,inv(SIGMA))*xc)\n",
    "    sign_sig, logdet_sig = slogdet(SIGMA)\n",
    "    logdet_sig = sign_sig*logdet_sig\n",
    "    term2 = const - 0.5*logdet_sig\n",
    "    logp = term1 + term2   \n",
    "    return logp\n",
    "    "
   ]
  },
  {
   "cell_type": "code",
   "execution_count": 5,
   "metadata": {},
   "outputs": [],
   "source": [
    "def mode_adj_matrix(M):\n",
    "    dim_y = len(M)\n",
    "    M_mode = np.zeros([dim_y,dim_y])\n",
    "    for j in range(dim_y):\n",
    "        for k in range(dim_y):\n",
    "            n =  mode(M[j,k,:])\n",
    "            M_mode[j,k] = n[0]\n",
    "    return M_mode"
   ]
  },
  {
   "cell_type": "code",
   "execution_count": 6,
   "metadata": {},
   "outputs": [],
   "source": [
    "def gibbs_bernoulli(gamma, parameters):\n",
    "    \n",
    "    I, I0, thin_rate, A_init, C, mu, sig, A = parameters\n",
    "    # Obtain dimensions \n",
    "    dim_y = len(C[:,0])\n",
    "    \n",
    "    # Initialize arrays to store samples\n",
    "    A_s = np.zeros([dim_y, dim_y, I+1])\n",
    "    A_old = np.zeros([dim_y, dim_y])\n",
    "    \n",
    "    # Set the initial states of the Markov chains\n",
    "    A_s[:,:,0] = A_init\n",
    "    A_old = A_s[:,:,0]\n",
    "    \n",
    "    # For loop for Gibbs\n",
    "    for i in range(1,I):\n",
    "        for j in range(dim_y):\n",
    "            for k in range(dim_y):\n",
    "\n",
    "                # Conside that A[j,k] = 1\n",
    "                A_old[j,k] = 1\n",
    "                C_temp = C*A_old\n",
    "                log_pa1 = np.log(gamma) + logmvnpdf(C_temp.flatten().T, mu.T, sig)\n",
    "\n",
    "                # Conside that A[j,k] = 0\n",
    "                A_old[j,k] = 0\n",
    "                C_temp = C*A_old\n",
    "                log_pa0 = np.log(1-gamma) + logmvnpdf(C_temp.flatten().T, mu.T, sig)\n",
    "\n",
    "                # Sample the topology\n",
    "                pa0 = np.exp(log_pa0 - np.max([log_pa0, log_pa1]))\n",
    "                pa1 = np.exp(log_pa1 - np.max([log_pa0, log_pa1]))\n",
    "                prob_1 = pa1/(pa1 + pa0)\n",
    "\n",
    "                A_old[j,k] = int(random()<prob_1)\n",
    "        \n",
    "        # Store sample from iteration i\n",
    "        A_s[:,:,i] = A_old\n",
    "    \n",
    "    # Apply burn-in\n",
    "    A_s = A_s[:,:,I0+1:I+1]\n",
    "    A_s = A_s[:,:,::thin_rate]\n",
    "    \n",
    "    # Find estimate of adjacency matrix from obtained Gibbs samples\n",
    "    A_est = mode_adj_matrix(A_s)\n",
    "    \n",
    "    fs = f_score(A, A_est)\n",
    "    \n",
    "    return A_est, fs\n",
    "    "
   ]
  },
  {
   "cell_type": "code",
   "execution_count": 7,
   "metadata": {},
   "outputs": [],
   "source": [
    "def f_score(A, A_hat):\n",
    "    precision = sum(sum(A_hat*A))/sum(sum((A_hat==1).astype(int)));\n",
    "    recall = sum(sum(A_hat*A))/sum(sum((A==1).astype(int)));\n",
    "    fscore = 2*(precision*recall/(precision+recall));\n",
    "    return fscore\n",
    "    "
   ]
  },
  {
   "cell_type": "markdown",
   "metadata": {},
   "source": [
    "# Main Script"
   ]
  },
  {
   "cell_type": "markdown",
   "metadata": {},
   "source": [
    "Generating Data"
   ]
  },
  {
   "cell_type": "code",
   "execution_count": 44,
   "metadata": {},
   "outputs": [],
   "source": [
    "# Dimension of data\n",
    "dim_y = 4\n",
    "\n",
    "# Sparsity percentage\n",
    "p_s = 0.7 \n",
    "p_ns = 1 - p_s\n",
    "\n",
    "# Observations (Length of time series)\n",
    "T = 10000\n",
    "\n",
    "# Observation noise\n",
    "var_u = 1\n",
    "\n",
    "true = generate_mat(T, dim_y, p_s, var_u)\n",
    "\n",
    "A, C, y, dim_x = true"
   ]
  },
  {
   "cell_type": "markdown",
   "metadata": {},
   "source": [
    "Bayesian Ridge Regression"
   ]
  },
  {
   "cell_type": "code",
   "execution_count": 45,
   "metadata": {},
   "outputs": [
    {
     "data": {
      "text/plain": [
       "0.02180651747024084"
      ]
     },
     "execution_count": 45,
     "metadata": {},
     "output_type": "execute_result"
    }
   ],
   "source": [
    "# Mean\n",
    "mu_0 = [0]*dim_x\n",
    "\n",
    "# Covariance\n",
    "var_0 = 1\n",
    "sig_0 = var_0*np.identity(dim_x)\n",
    "\n",
    "# Obtain the posterior of the vectorized matrix\n",
    "estimates = mn_conjugate_var(y, var_u, mu_0, sig_0)\n",
    "\n",
    "mu_c, sig_c, mu_x, sig_x = estimates\n",
    "\n",
    "# Convert estimate to matrix form\n",
    "C_est = mu_c.reshape(dim_y, dim_y)\n",
    "\n",
    "# Compute MSE\n",
    "MSE = sum(sum((C-C_est)**2))/dim_x\n",
    "MSE"
   ]
  },
  {
   "cell_type": "markdown",
   "metadata": {},
   "source": [
    "Gibbs Sampler - Bernoulli Prior"
   ]
  },
  {
   "cell_type": "code",
   "execution_count": 39,
   "metadata": {},
   "outputs": [],
   "source": [
    "# Gibbs Sampler Settings\n",
    "\n",
    "# Number of iterations\n",
    "I = 4000\n",
    "\n",
    "# Burn in period\n",
    "I0 = 2000\n",
    "\n",
    "# Thinin parameter\n",
    "K = 2\n",
    "\n",
    "# Initial Adjacency Matrix\n",
    "A_init = np.ones([dim_y,dim_y])\n",
    "\n",
    "# Hyper prior range\n",
    "#gamma = list(np.linspace(0.1,0.8, num=8))\n",
    "gamma_list = [0.1, 0.2, 0.3, 0.4, 0.5, 0.6, 0.7, 0.8]\n",
    "\n",
    "# Number of runs\n",
    "R = 1"
   ]
  },
  {
   "cell_type": "markdown",
   "metadata": {},
   "source": [
    "Call Gibbs Sampler"
   ]
  },
  {
   "cell_type": "code",
   "execution_count": null,
   "metadata": {},
   "outputs": [],
   "source": []
  },
  {
   "cell_type": "code",
   "execution_count": 40,
   "metadata": {},
   "outputs": [],
   "source": [
    "gibbs_settings = (I, I0, K, A_init, C_est, mu_x, sig_x, A)"
   ]
  },
  {
   "cell_type": "code",
   "execution_count": 41,
   "metadata": {},
   "outputs": [
    {
     "name": "stdout",
     "output_type": "stream",
     "text": [
      "(array([[0., 0., 0., 0.],\n",
      "       [0., 1., 0., 0.],\n",
      "       [0., 0., 1., 0.],\n",
      "       [0., 0., 0., 0.]]), 0.4)\n",
      "(array([[1., 0., 0., 0.],\n",
      "       [0., 1., 0., 0.],\n",
      "       [0., 0., 1., 0.],\n",
      "       [0., 0., 0., 0.]]), 0.5454545454545454)\n",
      "(array([[1., 0., 0., 0.],\n",
      "       [0., 1., 0., 0.],\n",
      "       [0., 0., 1., 0.],\n",
      "       [0., 0., 0., 0.]]), 0.5454545454545454)\n",
      "(array([[1., 0., 0., 0.],\n",
      "       [0., 1., 0., 0.],\n",
      "       [0., 0., 1., 0.],\n",
      "       [0., 0., 0., 0.]]), 0.5454545454545454)\n",
      "(array([[1., 0., 1., 1.],\n",
      "       [0., 1., 1., 0.],\n",
      "       [1., 0., 1., 0.],\n",
      "       [0., 0., 1., 1.]]), 0.7058823529411765)\n",
      "(array([[1., 1., 1., 1.],\n",
      "       [1., 1., 1., 1.],\n",
      "       [1., 1., 1., 1.],\n",
      "       [1., 1., 1., 1.]]), 0.6666666666666666)\n",
      "(array([[1., 1., 1., 1.],\n",
      "       [1., 1., 1., 1.],\n",
      "       [1., 1., 1., 1.],\n",
      "       [1., 1., 1., 1.]]), 0.6666666666666666)\n",
      "(array([[1., 1., 1., 1.],\n",
      "       [1., 1., 1., 1.],\n",
      "       [1., 1., 1., 1.],\n",
      "       [1., 1., 1., 1.]]), 0.6666666666666666)\n"
     ]
    }
   ],
   "source": [
    "with cF.ProcessPoolExecutor() as executor:\n",
    "\n",
    "    sub_gibbs = partial(gibbs_bernoulli, parameters=gibbs_settings)\n",
    "    results = executor.map(sub_gibbs, gamma_list)\n",
    "    \n",
    "    test_res = list(results)\n",
    "    for est in test_res:\n",
    "        print(est)\n",
    "        \n",
    "    "
   ]
  },
  {
   "cell_type": "code",
   "execution_count": null,
   "metadata": {},
   "outputs": [],
   "source": []
  },
  {
   "cell_type": "code",
   "execution_count": 33,
   "metadata": {},
   "outputs": [
    {
     "name": "stdout",
     "output_type": "stream",
     "text": [
      "0.4\n",
      "0.631578947368421\n"
     ]
    }
   ],
   "source": [
    "for prior in [0.1, 0.5]:\n",
    "    results_reg = gibbs_bernoulli(prior, gibbs_settings)\n",
    "    print(results_reg[1])"
   ]
  },
  {
   "cell_type": "code",
   "execution_count": 42,
   "metadata": {},
   "outputs": [
    {
     "data": {
      "text/plain": [
       "array([[-5.32652644e-02,  1.48038624e-03,  1.73301774e-03,\n",
       "         4.24240794e-04],\n",
       "       [ 2.16781122e-03, -4.68014053e-01,  3.21940587e-04,\n",
       "         2.50488417e-04],\n",
       "       [ 1.82940124e-02,  3.98464751e-04,  3.15839697e-01,\n",
       "        -1.18568133e-03],\n",
       "       [-2.51630972e-04, -4.52561736e-04,  7.89874360e-03,\n",
       "         2.21350057e-02]])"
      ]
     },
     "execution_count": 42,
     "metadata": {},
     "output_type": "execute_result"
    }
   ],
   "source": [
    "C_est"
   ]
  },
  {
   "cell_type": "code",
   "execution_count": 43,
   "metadata": {},
   "outputs": [
    {
     "data": {
      "text/plain": [
       "array([[-0.03072427,  0.01853766,  0.        ,  0.36982851],\n",
       "       [-0.        , -0.4788122 ,  0.        ,  0.        ],\n",
       "       [-0.43113228, -0.        ,  0.38195141,  0.        ],\n",
       "       [-0.18283932, -0.        , -0.13330547, -0.        ]])"
      ]
     },
     "execution_count": 43,
     "metadata": {},
     "output_type": "execute_result"
    }
   ],
   "source": [
    "C"
   ]
  },
  {
   "cell_type": "code",
   "execution_count": 17,
   "metadata": {},
   "outputs": [
    {
     "data": {
      "text/plain": [
       "array([[1., 1.],\n",
       "       [1., 1.]])"
      ]
     },
     "execution_count": 17,
     "metadata": {},
     "output_type": "execute_result"
    }
   ],
   "source": [
    "results_reg[0]"
   ]
  },
  {
   "cell_type": "code",
   "execution_count": 18,
   "metadata": {},
   "outputs": [
    {
     "data": {
      "text/plain": [
       "array([[1., 0.],\n",
       "       [0., 1.]])"
      ]
     },
     "execution_count": 18,
     "metadata": {},
     "output_type": "execute_result"
    }
   ],
   "source": [
    "A"
   ]
  },
  {
   "cell_type": "code",
   "execution_count": 37,
   "metadata": {},
   "outputs": [
    {
     "data": {
      "text/plain": [
       "0.9950124791926823"
      ]
     },
     "execution_count": 37,
     "metadata": {},
     "output_type": "execute_result"
    }
   ],
   "source": [
    "np.exp(-0.005)"
   ]
  },
  {
   "cell_type": "code",
   "execution_count": 38,
   "metadata": {},
   "outputs": [
    {
     "data": {
      "text/plain": [
       "0.9950124791926823"
      ]
     },
     "execution_count": 38,
     "metadata": {},
     "output_type": "execute_result"
    }
   ],
   "source": [
    "np.exp(np.float64(-0.005))"
   ]
  },
  {
   "cell_type": "code",
   "execution_count": null,
   "metadata": {},
   "outputs": [],
   "source": []
  }
 ],
 "metadata": {
  "kernelspec": {
   "display_name": "Python 3",
   "language": "python",
   "name": "python3"
  },
  "language_info": {
   "codemirror_mode": {
    "name": "ipython",
    "version": 3
   },
   "file_extension": ".py",
   "mimetype": "text/x-python",
   "name": "python",
   "nbconvert_exporter": "python",
   "pygments_lexer": "ipython3",
   "version": "3.7.6"
  }
 },
 "nbformat": 4,
 "nbformat_minor": 4
}
