{
 "cells": [
  {
   "cell_type": "code",
   "execution_count": 1,
   "metadata": {},
   "outputs": [],
   "source": [
    "import multiprocessing as mP\n",
    "import time\n",
    "import concurrent.futures as cF"
   ]
  },
  {
   "cell_type": "code",
   "execution_count": 2,
   "metadata": {},
   "outputs": [],
   "source": [
    "def do_s():\n",
    "    print('Sleep 1 seconds')\n",
    "    time.sleep(1)\n",
    "    return 'Done.'"
   ]
  },
  {
   "cell_type": "code",
   "execution_count": 3,
   "metadata": {},
   "outputs": [],
   "source": [
    "def do_sinput(n):\n",
    "    print(f'Sleep {n} seconds')\n",
    "    time.sleep(n)\n",
    "    return 'Done.'"
   ]
  },
  {
   "cell_type": "code",
   "execution_count": 4,
   "metadata": {},
   "outputs": [],
   "source": [
    "def do_input(n):\n",
    "    print(f'Sleep {n} seconds')\n",
    "    time.sleep(n)\n",
    "    return f'Done.. {n}'"
   ]
  },
  {
   "cell_type": "code",
   "execution_count": 5,
   "metadata": {},
   "outputs": [
    {
     "name": "stdout",
     "output_type": "stream",
     "text": [
      "Sleep 1 seconds\n",
      "Sleep 1 seconds\n",
      "Finished in 1.01 seconds\n"
     ]
    }
   ],
   "source": [
    "start = time.perf_counter()\n",
    "#do_s()\n",
    "#do_s()\n",
    "\n",
    "p1 = mP.Process(target = do_s)\n",
    "p2 = mP.Process(target = do_s)\n",
    "\n",
    "p1.start()\n",
    "p2.start()\n",
    "\n",
    "p1.join()\n",
    "p2.join()\n",
    "\n",
    "finish = time.perf_counter()\n",
    "print(f'Finished in {round(finish-start,2)} seconds')\n"
   ]
  },
  {
   "cell_type": "code",
   "execution_count": 6,
   "metadata": {},
   "outputs": [
    {
     "name": "stdout",
     "output_type": "stream",
     "text": [
      "Sleep 1.5 seconds\n"
     ]
    },
    {
     "name": "stderr",
     "output_type": "stream",
     "text": [
      "Process Process-4:\n",
      "Traceback (most recent call last):\n",
      "  File \"/Users/marijailoska/anaconda3/lib/python3.7/multiprocessing/process.py\", line 297, in _bootstrap\n",
      "    self.run()\n",
      "  File \"/Users/marijailoska/anaconda3/lib/python3.7/multiprocessing/process.py\", line 99, in run\n",
      "    self._target(*self._args, **self._kwargs)\n",
      "TypeError: do_sinput() takes 1 positional argument but 2 were given\n"
     ]
    },
    {
     "name": "stdout",
     "output_type": "stream",
     "text": [
      "Finished in 1.51 seconds\n"
     ]
    }
   ],
   "source": [
    "start = time.perf_counter()\n",
    "#do_s()\n",
    "#do_s()\n",
    "\n",
    "p1 = mP.Process(target = do_sinput, args=[1.5])\n",
    "p2 = mP.Process(target = do_sinput, args=[1,5])\n",
    "\n",
    "p1.start()\n",
    "p2.start()\n",
    "\n",
    "p1.join()\n",
    "p2.join()\n",
    "\n",
    "finish = time.perf_counter()\n",
    "print(f'Finished in {round(finish-start,2)} seconds')"
   ]
  },
  {
   "cell_type": "code",
   "execution_count": 7,
   "metadata": {},
   "outputs": [
    {
     "name": "stdout",
     "output_type": "stream",
     "text": [
      "Sleep 1.5 seconds\n",
      "Sleep 1.5 seconds\n",
      "Sleep 1.5 seconds\n",
      "Sleep 1.5 seconds\n",
      "Sleep 1.5 seconds\n",
      "Sleep 1.5 seconds\n",
      "Sleep 1.5 seconds\n",
      "Sleep 1.5 seconds\n",
      "Sleep 1.5 seconds\n",
      "Sleep 1.5 seconds\n",
      "Finished in 1.53 seconds\n"
     ]
    }
   ],
   "source": [
    "start = time.perf_counter()    \n",
    "    \n",
    "processes = []\n",
    "\n",
    "for _ in range(10):\n",
    "    p = mP.Process(target = do_sinput, args = [1.5])\n",
    "    p.start()\n",
    "    processes.append(p)\n",
    "\n",
    "for proc in processes:\n",
    "    proc.join()\n",
    "    \n",
    "finish = time.perf_counter()\n",
    "\n",
    "print('Finished in', round(finish-start,2), 'seconds')"
   ]
  },
  {
   "cell_type": "code",
   "execution_count": 8,
   "metadata": {},
   "outputs": [
    {
     "name": "stdout",
     "output_type": "stream",
     "text": [
      "Sleep 1 seconds\n",
      "Sleep 1 seconds\n",
      "Sleep 5 seconds\n",
      "Sleep 3 seconds\n",
      "Sleep 4 seconds\n",
      "Sleep 2 seconds\n",
      "Sleep 1 seconds\n",
      "Done.. 1\n",
      "Done.. 1\n",
      "Done.. 1\n",
      "Done.. 2\n",
      "Done.. 3\n",
      "Done.. 4\n",
      "Done.. 5\n",
      "Finished in 6.05 seconds\n"
     ]
    }
   ],
   "source": [
    "start = time.perf_counter()\n",
    "\n",
    "\n",
    "with cF.ProcessPoolExecutor() as executor:\n",
    "    secs = [5, 4, 3, 2, 1]\n",
    "    # schedules a fn to be executed and returns a future object\n",
    "    f1 = executor.submit(do_input, 1)  \n",
    "    f2 = executor.submit(do_input, 1)  \n",
    "    \n",
    "    print(f1.result())\n",
    "    print(f2.result())\n",
    "    \n",
    "    results = [executor.submit(do_input, sec) for sec in secs]\n",
    "    for f in cF.as_completed(results):\n",
    "        print(f.result())\n",
    "    \n",
    "finish = time.perf_counter()\n",
    "\n",
    "print('Finished in', round(finish-start,2), 'seconds' )\n",
    "    "
   ]
  },
  {
   "cell_type": "code",
   "execution_count": 9,
   "metadata": {},
   "outputs": [
    {
     "name": "stdout",
     "output_type": "stream",
     "text": [
      "Sleep 5 seconds\n",
      "Sleep 3 seconds\n",
      "Sleep 4 seconds\n",
      "Sleep 2 seconds\n",
      "Sleep 1 seconds\n",
      "Done.. 5\n",
      "Done.. 4\n",
      "Done.. 3\n",
      "Done.. 2\n",
      "Done.. 1\n",
      "Finished in 5.04 seconds\n"
     ]
    }
   ],
   "source": [
    "start = time.perf_counter()\n",
    "\n",
    "\n",
    "with cF.ProcessPoolExecutor() as executor:\n",
    "    secs = [5, 4, 3, 2, 1]  \n",
    "    # runs do_input with every item of secs\n",
    "    results = executor.map(do_input, secs)\n",
    "    \n",
    "    for result in results:\n",
    "        print(result)\n",
    "    \n",
    "finish = time.perf_counter()\n",
    "\n",
    "print('Finished in', round(finish-start,2), 'seconds' )\n",
    "    "
   ]
  },
  {
   "cell_type": "code",
   "execution_count": 10,
   "metadata": {},
   "outputs": [
    {
     "name": "stdout",
     "output_type": "stream",
     "text": [
      "Sleep 5 seconds\n",
      "Sleep 3 seconds\n",
      "Sleep 4 seconds\n",
      "Sleep 2 seconds\n",
      "Sleep 1 seconds\n",
      "Finished in 5.04 seconds\n"
     ]
    }
   ],
   "source": [
    "start = time.perf_counter()\n",
    "\n",
    "\n",
    "with cF.ProcessPoolExecutor() as executor:\n",
    "    secs = [5, 4, 3, 2, 1]  \n",
    "    # runs do_input with every item of secs\n",
    "    results = executor.map(do_input, secs)\n",
    "    \n",
    "finish = time.perf_counter()\n",
    "\n",
    "print('Finished in', round(finish-start,2), 'seconds' )\n",
    " "
   ]
  },
  {
   "cell_type": "code",
   "execution_count": 80,
   "metadata": {},
   "outputs": [],
   "source": [
    "def addd(n, tup):\n",
    "    a,r,y = tup\n",
    "    b = np.zeros([2,2,4])\n",
    "    m = testt(a)\n",
    "    new = r*2\n",
    "    for i in range(m):\n",
    "        b[:,:,i]= np.array([[n,a+i],[a,y]])\n",
    "    return b,new\n",
    "\n",
    "def testt(n):\n",
    "    return n**2"
   ]
  },
  {
   "cell_type": "code",
   "execution_count": 76,
   "metadata": {},
   "outputs": [],
   "source": [
    "from functools import partial\n",
    "import numpy as np\n",
    "tupt = (2,np.array([[2,3],[3,1]]),4)\n",
    "n_list = [5, 4, 3, 2, 1]  "
   ]
  },
  {
   "cell_type": "code",
   "execution_count": 78,
   "metadata": {},
   "outputs": [
    {
     "name": "stdout",
     "output_type": "stream",
     "text": [
      "\n",
      "\n",
      "\n",
      "\n",
      "\n"
     ]
    }
   ],
   "source": [
    "with cF.ProcessPoolExecutor() as executor:\n",
    "\n",
    "    test = partial(addd, tup=tupt)\n",
    "    \n",
    "    results = executor.map(test, n_list)\n",
    "    \n",
    "    test = list(results)\n",
    "    for result in test:\n",
    "        print()\n",
    "    \n",
    "finish = time.perf_counter()"
   ]
  },
  {
   "cell_type": "code",
   "execution_count": null,
   "metadata": {},
   "outputs": [],
   "source": []
  },
  {
   "cell_type": "code",
   "execution_count": null,
   "metadata": {},
   "outputs": [],
   "source": []
  },
  {
   "cell_type": "code",
   "execution_count": 65,
   "metadata": {},
   "outputs": [],
   "source": []
  },
  {
   "cell_type": "code",
   "execution_count": null,
   "metadata": {},
   "outputs": [],
   "source": []
  },
  {
   "cell_type": "code",
   "execution_count": null,
   "metadata": {},
   "outputs": [],
   "source": []
  },
  {
   "cell_type": "code",
   "execution_count": null,
   "metadata": {},
   "outputs": [],
   "source": []
  }
 ],
 "metadata": {
  "kernelspec": {
   "display_name": "Python 3",
   "language": "python",
   "name": "python3"
  },
  "language_info": {
   "codemirror_mode": {
    "name": "ipython",
    "version": 3
   },
   "file_extension": ".py",
   "mimetype": "text/x-python",
   "name": "python",
   "nbconvert_exporter": "python",
   "pygments_lexer": "ipython3",
   "version": "3.7.6"
  }
 },
 "nbformat": 4,
 "nbformat_minor": 4
}
